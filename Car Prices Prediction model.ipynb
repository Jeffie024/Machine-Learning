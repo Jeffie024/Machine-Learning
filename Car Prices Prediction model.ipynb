{
 "cells": [
  {
   "cell_type": "markdown",
   "id": "c287b984-61da-479f-95f2-808994546f44",
   "metadata": {},
   "source": [
    "### About this\n",
    "I think we are just gonna take the data sheet, try to visualize it, try to build a few models, and evaluate them."
   ]
  },
  {
   "cell_type": "code",
   "execution_count": 3,
   "id": "dba2bb0a-f144-4e17-9fc6-119ab5290144",
   "metadata": {},
   "outputs": [],
   "source": [
    "import scipy as sp\n",
    "import pandas as pd\n",
    "import numpy as np\n",
    "import matplotlib.pyplot as plt\n",
    "import seaborn as sns\n",
    "import copy\n",
    "\n",
    "import statsmodels.formula.api as smf\n",
    "import statsmodels.api as sm"
   ]
  },
  {
   "cell_type": "code",
   "execution_count": 9,
   "id": "e44a7bdc-766f-4c72-9d0f-544ea8206d22",
   "metadata": {},
   "outputs": [
    {
     "data": {
      "text/plain": [
       "Index(['car_ID', 'symboling', 'CarName', 'fueltype', 'aspiration',\n",
       "       'doornumber', 'carbody', 'drivewheel', 'enginelocation', 'wheelbase',\n",
       "       'carlength', 'carwidth', 'carheight', 'curbweight', 'enginetype',\n",
       "       'cylindernumber', 'enginesize', 'fuelsystem', 'boreratio', 'stroke',\n",
       "       'compressionratio', 'horsepower', 'peakrpm', 'citympg', 'highwaympg',\n",
       "       'price'],\n",
       "      dtype='object')"
      ]
     },
     "execution_count": 9,
     "metadata": {},
     "output_type": "execute_result"
    }
   ],
   "source": [
    "#import the .csv file as a dataframe\n",
    "df = pd.read_csv('/Users/jeffreyfang/dartdataforfun/archive/CarPrice_Assignment.csv')\n",
    "df.columns"
   ]
  },
  {
   "cell_type": "markdown",
   "id": "7929e554-5e6b-4d6f-830d-174ffae7273c",
   "metadata": {},
   "source": [
    "**First, let's jsut build a simple linear regression model**\n",
    "<br> let's predict price (y) from horsepower (x)"
   ]
  },
  {
   "cell_type": "code",
   "execution_count": 19,
   "id": "adf25f3a-a02c-439d-b04f-ca69ef155002",
   "metadata": {},
   "outputs": [],
   "source": [
    "#first we grab the columns we want, and split data\n",
    "x = df['horsepower']\n",
    "y = df['price']\n",
    "\n",
    "from sklearn.model_selection import train_test_split as tts\n",
    "y_tr, y_ts, x_tr, x_ts = tts(y, x, test_size = 0.2, random_state = 42)"
   ]
  },
  {
   "cell_type": "code",
   "execution_count": 53,
   "id": "ea2cbf9d-08a6-4c86-91a5-f58cb9419e8f",
   "metadata": {},
   "outputs": [
    {
     "name": "stdout",
     "output_type": "stream",
     "text": [
      "     const  horsepower\n",
      "66     1.0          72\n",
      "111    1.0          95\n",
      "153    1.0          62\n",
      "96     1.0          69\n",
      "38     1.0          86\n",
      "..     ...         ...\n",
      "106    1.0         160\n",
      "14     1.0         121\n",
      "92     1.0          69\n",
      "179    1.0         161\n",
      "102    1.0         152\n",
      "\n",
      "[164 rows x 2 columns]\n"
     ]
    }
   ],
   "source": [
    "#let's try to add the intercept\n",
    "x_train = sm.add_constant(x_tr)\n",
    "x_test = sm.add_constant(x_ts)\n",
    "\n",
    "print(x_train)"
   ]
  },
  {
   "cell_type": "code",
   "execution_count": 55,
   "id": "c2d2286b-ac98-40cb-8f42-960d704422cb",
   "metadata": {},
   "outputs": [
    {
     "data": {
      "text/html": [
       "<table class=\"simpletable\">\n",
       "<caption>OLS Regression Results</caption>\n",
       "<tr>\n",
       "  <th>Dep. Variable:</th>          <td>price</td>      <th>  R-squared:         </th> <td>   0.658</td>\n",
       "</tr>\n",
       "<tr>\n",
       "  <th>Model:</th>                   <td>OLS</td>       <th>  Adj. R-squared:    </th> <td>   0.656</td>\n",
       "</tr>\n",
       "<tr>\n",
       "  <th>Method:</th>             <td>Least Squares</td>  <th>  F-statistic:       </th> <td>   311.3</td>\n",
       "</tr>\n",
       "<tr>\n",
       "  <th>Date:</th>             <td>Sun, 16 Jun 2024</td> <th>  Prob (F-statistic):</th> <td>1.49e-39</td>\n",
       "</tr>\n",
       "<tr>\n",
       "  <th>Time:</th>                 <td>15:38:23</td>     <th>  Log-Likelihood:    </th> <td> -1612.9</td>\n",
       "</tr>\n",
       "<tr>\n",
       "  <th>No. Observations:</th>      <td>   164</td>      <th>  AIC:               </th> <td>   3230.</td>\n",
       "</tr>\n",
       "<tr>\n",
       "  <th>Df Residuals:</th>          <td>   162</td>      <th>  BIC:               </th> <td>   3236.</td>\n",
       "</tr>\n",
       "<tr>\n",
       "  <th>Df Model:</th>              <td>     1</td>      <th>                     </th>     <td> </td>   \n",
       "</tr>\n",
       "<tr>\n",
       "  <th>Covariance Type:</th>      <td>nonrobust</td>    <th>                     </th>     <td> </td>   \n",
       "</tr>\n",
       "</table>\n",
       "<table class=\"simpletable\">\n",
       "<tr>\n",
       "       <td></td>         <th>coef</th>     <th>std err</th>      <th>t</th>      <th>P>|t|</th>  <th>[0.025</th>    <th>0.975]</th>  \n",
       "</tr>\n",
       "<tr>\n",
       "  <th>const</th>      <td>-3126.8699</td> <td>  992.402</td> <td>   -3.151</td> <td> 0.002</td> <td>-5086.582</td> <td>-1167.158</td>\n",
       "</tr>\n",
       "<tr>\n",
       "  <th>horsepower</th> <td>  156.1614</td> <td>    8.851</td> <td>   17.643</td> <td> 0.000</td> <td>  138.683</td> <td>  173.640</td>\n",
       "</tr>\n",
       "</table>\n",
       "<table class=\"simpletable\">\n",
       "<tr>\n",
       "  <th>Omnibus:</th>       <td>46.624</td> <th>  Durbin-Watson:     </th> <td>   2.061</td>\n",
       "</tr>\n",
       "<tr>\n",
       "  <th>Prob(Omnibus):</th> <td> 0.000</td> <th>  Jarque-Bera (JB):  </th> <td> 100.539</td>\n",
       "</tr>\n",
       "<tr>\n",
       "  <th>Skew:</th>          <td> 1.260</td> <th>  Prob(JB):          </th> <td>1.47e-22</td>\n",
       "</tr>\n",
       "<tr>\n",
       "  <th>Kurtosis:</th>      <td> 5.891</td> <th>  Cond. No.          </th> <td>    313.</td>\n",
       "</tr>\n",
       "</table><br/><br/>Notes:<br/>[1] Standard Errors assume that the covariance matrix of the errors is correctly specified."
      ],
      "text/latex": [
       "\\begin{center}\n",
       "\\begin{tabular}{lclc}\n",
       "\\toprule\n",
       "\\textbf{Dep. Variable:}    &      price       & \\textbf{  R-squared:         } &     0.658   \\\\\n",
       "\\textbf{Model:}            &       OLS        & \\textbf{  Adj. R-squared:    } &     0.656   \\\\\n",
       "\\textbf{Method:}           &  Least Squares   & \\textbf{  F-statistic:       } &     311.3   \\\\\n",
       "\\textbf{Date:}             & Sun, 16 Jun 2024 & \\textbf{  Prob (F-statistic):} &  1.49e-39   \\\\\n",
       "\\textbf{Time:}             &     15:38:23     & \\textbf{  Log-Likelihood:    } &   -1612.9   \\\\\n",
       "\\textbf{No. Observations:} &         164      & \\textbf{  AIC:               } &     3230.   \\\\\n",
       "\\textbf{Df Residuals:}     &         162      & \\textbf{  BIC:               } &     3236.   \\\\\n",
       "\\textbf{Df Model:}         &           1      & \\textbf{                     } &             \\\\\n",
       "\\textbf{Covariance Type:}  &    nonrobust     & \\textbf{                     } &             \\\\\n",
       "\\bottomrule\n",
       "\\end{tabular}\n",
       "\\begin{tabular}{lcccccc}\n",
       "                    & \\textbf{coef} & \\textbf{std err} & \\textbf{t} & \\textbf{P$> |$t$|$} & \\textbf{[0.025} & \\textbf{0.975]}  \\\\\n",
       "\\midrule\n",
       "\\textbf{const}      &   -3126.8699  &      992.402     &    -3.151  &         0.002        &    -5086.582    &    -1167.158     \\\\\n",
       "\\textbf{horsepower} &     156.1614  &        8.851     &    17.643  &         0.000        &      138.683    &      173.640     \\\\\n",
       "\\bottomrule\n",
       "\\end{tabular}\n",
       "\\begin{tabular}{lclc}\n",
       "\\textbf{Omnibus:}       & 46.624 & \\textbf{  Durbin-Watson:     } &    2.061  \\\\\n",
       "\\textbf{Prob(Omnibus):} &  0.000 & \\textbf{  Jarque-Bera (JB):  } &  100.539  \\\\\n",
       "\\textbf{Skew:}          &  1.260 & \\textbf{  Prob(JB):          } & 1.47e-22  \\\\\n",
       "\\textbf{Kurtosis:}      &  5.891 & \\textbf{  Cond. No.          } &     313.  \\\\\n",
       "\\bottomrule\n",
       "\\end{tabular}\n",
       "%\\caption{OLS Regression Results}\n",
       "\\end{center}\n",
       "\n",
       "Notes: \\newline\n",
       " [1] Standard Errors assume that the covariance matrix of the errors is correctly specified."
      ],
      "text/plain": [
       "<class 'statsmodels.iolib.summary.Summary'>\n",
       "\"\"\"\n",
       "                            OLS Regression Results                            \n",
       "==============================================================================\n",
       "Dep. Variable:                  price   R-squared:                       0.658\n",
       "Model:                            OLS   Adj. R-squared:                  0.656\n",
       "Method:                 Least Squares   F-statistic:                     311.3\n",
       "Date:                Sun, 16 Jun 2024   Prob (F-statistic):           1.49e-39\n",
       "Time:                        15:38:23   Log-Likelihood:                -1612.9\n",
       "No. Observations:                 164   AIC:                             3230.\n",
       "Df Residuals:                     162   BIC:                             3236.\n",
       "Df Model:                           1                                         \n",
       "Covariance Type:            nonrobust                                         \n",
       "==============================================================================\n",
       "                 coef    std err          t      P>|t|      [0.025      0.975]\n",
       "------------------------------------------------------------------------------\n",
       "const      -3126.8699    992.402     -3.151      0.002   -5086.582   -1167.158\n",
       "horsepower   156.1614      8.851     17.643      0.000     138.683     173.640\n",
       "==============================================================================\n",
       "Omnibus:                       46.624   Durbin-Watson:                   2.061\n",
       "Prob(Omnibus):                  0.000   Jarque-Bera (JB):              100.539\n",
       "Skew:                           1.260   Prob(JB):                     1.47e-22\n",
       "Kurtosis:                       5.891   Cond. No.                         313.\n",
       "==============================================================================\n",
       "\n",
       "Notes:\n",
       "[1] Standard Errors assume that the covariance matrix of the errors is correctly specified.\n",
       "\"\"\""
      ]
     },
     "execution_count": 55,
     "metadata": {},
     "output_type": "execute_result"
    }
   ],
   "source": [
    "#let's train the model\n",
    "\n",
    "model = sm.OLS(y_tr, x_train).fit()\n",
    "model.summary()"
   ]
  },
  {
   "cell_type": "code",
   "execution_count": 67,
   "id": "2da33203-8b68-4806-be67-2d21743d5f5d",
   "metadata": {},
   "outputs": [
    {
     "name": "stdout",
     "output_type": "stream",
     "text": [
      "<matplotlib.collections.PathCollection object at 0x15366f110> <matplotlib.collections.PathCollection object at 0x147e37c90>\n"
     ]
    },
    {
     "data": {
      "image/png": "[encoded data removed]",
      "text/plain": [
       "<Figure size 640x480 with 1 Axes>"
      ]
     },
     "metadata": {},
     "output_type": "display_data"
    }
   ],
   "source": [
    "#let's see how prediction works\n",
    "\n",
    "pred_price = model.predict(x_train)\n",
    "\n",
    "#remember, you need to use the dataset with added constant, or the DF format won't fit. \n",
    "#but then below when you are plotting, you need to use orignial x_tr. it's all about fitting formats\n",
    "\n",
    "print(plt.scatter(pred_price, x_tr), plt.scatter(y_tr, x_tr))"
   ]
  },
  {
   "cell_type": "code",
   "execution_count": null,
   "id": "b72ec549-ec6c-4872-8b02-2b7555fa9f98",
   "metadata": {},
   "outputs": [],
   "source": []
  },
  {
   "cell_type": "code",
   "execution_count": null,
   "id": "7d927c4d-a636-4965-b642-4162ebfe6b8b",
   "metadata": {},
   "outputs": [],
   "source": []
  }
 ],
 "metadata": {
  "kernelspec": {
   "display_name": "Python 3 (ipykernel)",
   "language": "python",
   "name": "python3"
  },
  "language_info": {
   "codemirror_mode": {
    "name": "ipython",
    "version": 3
   },
   "file_extension": ".py",
   "mimetype": "text/x-python",
   "name": "python",
   "nbconvert_exporter": "python",
   "pygments_lexer": "ipython3",
   "version": "3.11.7"
  }
 },
 "nbformat": 4,
 "nbformat_minor": 5
}
